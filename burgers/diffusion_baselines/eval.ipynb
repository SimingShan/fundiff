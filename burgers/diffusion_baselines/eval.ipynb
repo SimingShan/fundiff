{
 "cells": [
  {
   "cell_type": "code",
   "execution_count": null,
   "metadata": {},
   "outputs": [],
   "source": [
    "import os\n",
    "\n",
    "import jax\n",
    "import jax.numpy as jnp\n",
    "from jax import vmap\n",
    "\n",
    "from jax.experimental import mesh_utils, multihost_utils\n",
    "from jax.sharding import Mesh, PartitionSpec as P\n",
    "\n",
    "from function_diffusion.utils.model_utils import (\n",
    "    create_model,\n",
    "    create_train_state,\n",
    "    create_optimizer,\n",
    "    compute_total_params,\n",
    ")\n",
    "from function_diffusion.utils.checkpoint_utils import (\n",
    "    create_checkpoint_manager,\n",
    "    restore_checkpoint,\n",
    ")\n",
    "from function_diffusion.utils.data_utils import create_dataloader\n",
    "from function_diffusion.utils.baseline_utils import create_eval_step\n",
    "\n",
    "from burgers.data_utils import create_dataset"
   ]
  },
  {
   "cell_type": "code",
   "execution_count": null,
   "metadata": {},
   "outputs": [],
   "source": [
    "from configs import base\n",
    "\n",
    "fno_config = base.get_config('fno')\n",
    "# vit_config = base.get_config('vit')\n",
    "# unet_config = base.get_config('unet')"
   ]
  },
  {
   "cell_type": "code",
   "execution_count": null,
   "metadata": {},
   "outputs": [],
   "source": [
    "def restore_model(config):\n",
    "    # Initialize model\n",
    "    model = create_model(config)\n",
    "    # Create learning rate schedule and optimizer\n",
    "    lr, tx = create_optimizer(config)\n",
    "\n",
    "    # Create train state\n",
    "    state = create_train_state(config,  model, tx)\n",
    "    num_params = compute_total_params(state)\n",
    "    print(f\"Model storage cost: {num_params * 4 / 1024 / 1024:.2f} MB of parameters\")\n",
    "\n",
    "    # Device count\n",
    "    num_local_devices = jax.local_device_count()\n",
    "    num_devices = jax.device_count()\n",
    "    print(f\"Number of devices: {num_devices}\")\n",
    "    print(f\"Number of local devices: {num_local_devices}\")\n",
    "\n",
    "    # Create checkpoint manager\n",
    "    job_name = f\"{config.model.model_name}\"\n",
    "    ckpt_path = os.path.join(os.getcwd(), job_name, \"ckpt\")\n",
    "    ckpt_mngr = create_checkpoint_manager(config.saving, ckpt_path)\n",
    "\n",
    "    state = restore_checkpoint(ckpt_mngr, state)\n",
    "    print(f\"Model loaded from step {state.step}\")\n",
    "\n",
    "    # Create sharding for data parallelism\n",
    "    mesh = Mesh(mesh_utils.create_device_mesh((jax.device_count(),)), \"batch\")\n",
    "    state = multihost_utils.host_local_array_to_global_array(state, mesh, P())\n",
    "\n",
    "    eval_step = create_eval_step(model, mesh)\n",
    "\n",
    "    return state, eval_step"
   ]
  },
  {
   "cell_type": "code",
   "execution_count": null,
   "metadata": {},
   "outputs": [],
   "source": [
    "fno_state, fno_eval_step = restore_model(fno_config)\n",
    "# vit_state, vit_eval_step = restore_model(vit_config)\n",
    "# unet_state, unet_eval_step = restore_model(unet_config)"
   ]
  },
  {
   "cell_type": "code",
   "execution_count": null,
   "metadata": {},
   "outputs": [],
   "source": [
    "# Create dataloaders\n",
    "train_dataset, test_dataset = create_dataset(fno_config)\n",
    "test_loader = create_dataloader(test_dataset,\n",
    "                                batch_size=fno_config.dataset.train_batch_size,\n",
    "                                num_workers=fno_config.dataset.num_workers,\n",
    "                                shuffle=False)"
   ]
  },
  {
   "cell_type": "code",
   "execution_count": null,
   "metadata": {},
   "outputs": [],
   "source": [
    "rng_key = jax.random.PRNGKey(12345)\n",
    "\n",
    "downsample_factor = 4\n",
    "noise_level = 0.2\n",
    "\n",
    "input_list = []\n",
    "pred_list = []\n",
    "ref_list = []\n",
    "for x in test_loader:\n",
    "    rng_key, subkey = jax.random.split(rng_key)\n",
    "    x = jax.tree.map(jnp.array, x)\n",
    "    y = x  # clean target, not used for model evaluation \n",
    "\n",
    "    x_downsampled = x[:, ::downsample_factor, ::downsample_factor]\n",
    "\n",
    "    noise = jax.random.normal(rng_key, x_downsampled.shape) * 0.2 * noise_level\n",
    "    x_noise = x_downsampled + noise\n",
    "\n",
    "    x = jax.image.resize(x_noise, (x.shape[0], 256, 256, x.shape[-1]), method='bilinear')\n",
    "    y = jax.image.resize(y, x.shape, method='bilinear')\n",
    "    \n",
    "    batch = (x, y)\n",
    "\n",
    "    # Evaluate model\n",
    "    pred = fno_eval_step(fno_state.params, batch)\n",
    "\n",
    "    pred_list.append(pred)\n",
    "    input_list.append(x)\n",
    "    ref_list.append(y)\n",
    "    \n",
    "\n",
    "u_pred = jnp.concatenate(pred_list, axis=0).squeeze()\n",
    "u_ref = jnp.concatenate(ref_list, axis=0).squeeze()\n",
    "u_input = jnp.concatenate(input_list, axis=0).squeeze()"
   ]
  },
  {
   "cell_type": "code",
   "execution_count": null,
   "metadata": {},
   "outputs": [],
   "source": [
    "def compute_error(pred, y):\n",
    "    return jnp.linalg.norm(pred.flatten() - y.flatten()) / jnp.linalg.norm(y.flatten())\n",
    "\n",
    "error = vmap(compute_error)(u_pred, u_ref)\n",
    "\n",
    "print(f\"FNO Relative L2 Error: {jnp.mean(error) * 100:.2f} % ± {jnp.std(error) * 100:.2f} %\")"
   ]
  },
  {
   "cell_type": "code",
   "execution_count": null,
   "metadata": {},
   "outputs": [],
   "source": [
    "# Visualization of some examples\n",
    "import matplotlib.pyplot as plt\n",
    "\n",
    "k = 0\n",
    "\n",
    "fig = plt.figure(figsize=(15, 4))\n",
    "plt.subplot(1, 4, 1)\n",
    "plt.title('Input')\n",
    "plt.pcolor(u_input[k, :, :], cmap='jet')\n",
    "plt.colorbar()\n",
    "\n",
    "plt.subplot(1, 4, 2)\n",
    "plt.title('Reference')\n",
    "plt.pcolor(u_ref[k, :, :], cmap='jet')\n",
    "plt.colorbar()\n",
    "\n",
    "plt.subplot(1, 4, 3)\n",
    "plt.title('FNO Prediction')\n",
    "plt.pcolor(u_pred[k, :, :], cmap='jet')\n",
    "plt.colorbar()\n",
    "\n",
    "plt.subplot(1, 4, 4)\n",
    "plt.title('FNO Error')\n",
    "plt.pcolor(jnp.abs(u_pred[k, :, :] - u_ref[k, :, :]), cmap='jet')\n",
    "plt.colorbar()\n",
    "\n",
    "plt.tight_layout()\n",
    "plt.show()"
   ]
  }
 ],
 "metadata": {
  "kernelspec": {
   "display_name": "base",
   "language": "python",
   "name": "python3"
  },
  "language_info": {
   "codemirror_mode": {
    "name": "ipython",
    "version": 3
   },
   "file_extension": ".py",
   "mimetype": "text/x-python",
   "name": "python",
   "nbconvert_exporter": "python",
   "pygments_lexer": "ipython3",
   "version": "3.11.9"
  }
 },
 "nbformat": 4,
 "nbformat_minor": 2
}
